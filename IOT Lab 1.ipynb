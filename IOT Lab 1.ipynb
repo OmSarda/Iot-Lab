{
 "cells": [
  {
   "cell_type": "code",
   "execution_count": 1,
   "id": "3ade723d",
   "metadata": {},
   "outputs": [
    {
     "name": "stdout",
     "output_type": "stream",
     "text": [
      "27\n",
      "-3\n",
      "180\n",
      "0.8\n",
      "12\n",
      "15407021574586368\n",
      "0\n"
     ]
    }
   ],
   "source": [
    "p = 12 \n",
    "q = 15\n",
    "add = p + q\n",
    "sub = p - q\n",
    "mul = p * q\n",
    "div = p / q\n",
    "mod = p % q\n",
    "expo = p ** q\n",
    "fd = p // q\n",
    "print(add)\n",
    "print(sub)\n",
    "print(mul)\n",
    "print(div)\n",
    "print(mod)\n",
    "print(expo)\n",
    "print(fd)"
   ]
  },
  {
   "cell_type": "code",
   "execution_count": 3,
   "id": "53f70bfe",
   "metadata": {},
   "outputs": [
    {
     "name": "stdout",
     "output_type": "stream",
     "text": [
      "Key :  UtiTopckks6o-70RqouzWztmCqliJk9R8kVN-uywpzI=\n",
      "After encryption :  b'gAAAAABjyk9ioK5gZDPda4DR2eLHgpD51IkagHmoQ_-Py1MYC5pBZFwzTqdupTZYhIpbelKyALFI3UYzgoVYj1smLhFka0IH3Q=='\n",
      "b'Om'\n",
      "After decryption :  Om\n"
     ]
    }
   ],
   "source": [
    "from cryptography.fernet import Fernet\n",
    "a = Fernet.generate_key()\n",
    "print(\"Key : \", a.decode())\n",
    "f = Fernet(a)\n",
    "encrypted_data = f.encrypt(b\"Om\")\n",
    "print(\"After encryption : \", encrypted_data)\n",
    "decrypted_data = f.decrypt(encrypted_data)\n",
    "print(decrypted_data)\n",
    "print(\"After decryption : \", decrypted_data.decode())\n"
   ]
  },
  {
   "cell_type": "code",
   "execution_count": null,
   "id": "c724d390",
   "metadata": {},
   "outputs": [],
   "source": []
  }
 ],
 "metadata": {
  "kernelspec": {
   "display_name": "Python 3 (ipykernel)",
   "language": "python",
   "name": "python3"
  },
  "language_info": {
   "codemirror_mode": {
    "name": "ipython",
    "version": 3
   },
   "file_extension": ".py",
   "mimetype": "text/x-python",
   "name": "python",
   "nbconvert_exporter": "python",
   "pygments_lexer": "ipython3",
   "version": "3.9.12"
  }
 },
 "nbformat": 4,
 "nbformat_minor": 5
}
